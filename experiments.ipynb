{
 "cells": [
  {
   "cell_type": "code",
   "execution_count": 5,
   "id": "619156bf",
   "metadata": {},
   "outputs": [],
   "source": [
    "import gymnasium as gym\n",
    "import numpy as np\n",
    "import cv2\n",
    "import matplotlib.pyplot as plt"
   ]
  },
  {
   "cell_type": "code",
   "execution_count": 6,
   "id": "9d6d4ded",
   "metadata": {},
   "outputs": [],
   "source": [
    "def fit_lane_lines(lines, img):\n",
    "    left_x, left_y = [], []\n",
    "    right_x, right_y = [], []\n",
    "\n",
    "    height, width, _ = img.shape\n",
    "    img_center = width // 2\n",
    "\n",
    "    if lines is None:\n",
    "        return None, None\n",
    "\n",
    "    for line in lines:\n",
    "        x1, y1, x2, y2 = line[0]\n",
    "        slope = (y2 - y1) / (x2 - x1 + 1e-6)  # avoid division by zero\n",
    "\n",
    "        if abs(slope) < 0.5:\n",
    "            continue  # filter out nearly-horizontal lines\n",
    "\n",
    "        if slope < 0 and x1 < img_center and x2 < img_center:\n",
    "            left_x += [x1, x2]\n",
    "            left_y += [y1, y2]\n",
    "        elif slope > 0 and x1 > img_center and x2 > img_center:\n",
    "            right_x += [x1, x2]\n",
    "            right_y += [y1, y2]\n",
    "\n",
    "    left_fit = np.polyfit(left_y, left_x, 1) if len(left_x) > 0 else None\n",
    "    right_fit = np.polyfit(right_y, right_x, 1) if len(right_x) > 0 else None\n",
    "\n",
    "    return left_fit, right_fit\n"
   ]
  },
  {
   "cell_type": "code",
   "execution_count": 7,
   "id": "eb2a0b9b",
   "metadata": {},
   "outputs": [],
   "source": [
    "def calculate_steering_from_center(left_fit, right_fit, img_width, img_height):\n",
    "    if left_fit is None or right_fit is None:\n",
    "        return 0.0  # fail-safe: go straight\n",
    "\n",
    "    y = img_height - 1  # bottom of the image\n",
    "\n",
    "    left_x = left_fit[0] * y + left_fit[1]\n",
    "    right_x = right_fit[0] * y + right_fit[1]\n",
    "    lane_center = (left_x + right_x) / 2.0\n",
    "\n",
    "    # Car center\n",
    "    car_center = img_width / 2.0\n",
    "\n",
    "    offset = lane_center - car_center\n",
    "\n",
    "    # Normalize and clamp steering\n",
    "    steering = np.clip(offset / (img_width / 2), -1.0, 1.0)\n",
    "    return steering\n"
   ]
  },
  {
   "cell_type": "code",
   "execution_count": 8,
   "id": "d2832ccd",
   "metadata": {},
   "outputs": [
    {
     "ename": "NameError",
     "evalue": "name 'obs' is not defined",
     "output_type": "error",
     "traceback": [
      "\u001b[31m---------------------------------------------------------------------------\u001b[39m",
      "\u001b[31mNameError\u001b[39m                                 Traceback (most recent call last)",
      "\u001b[36mCell\u001b[39m\u001b[36m \u001b[39m\u001b[32mIn[8]\u001b[39m\u001b[32m, line 2\u001b[39m\n\u001b[32m      1\u001b[39m \u001b[38;5;28;01mfor\u001b[39;00m _ \u001b[38;5;129;01min\u001b[39;00m \u001b[38;5;28mrange\u001b[39m(\u001b[32m300\u001b[39m):\n\u001b[32m----> \u001b[39m\u001b[32m2\u001b[39m     img = cv2.cvtColor(\u001b[43mobs\u001b[49m, cv2.COLOR_RGB2GRAY)\n\u001b[32m      3\u001b[39m     edges = cv2.Canny(img, \u001b[32m50\u001b[39m, \u001b[32m150\u001b[39m)\n\u001b[32m      5\u001b[39m     height, width = edges.shape\n",
      "\u001b[31mNameError\u001b[39m: name 'obs' is not defined"
     ]
    }
   ],
   "source": [
    "for _ in range(300):\n",
    "    img = cv2.cvtColor(obs, cv2.COLOR_RGB2GRAY)\n",
    "    edges = cv2.Canny(img, 50, 150)\n",
    "\n",
    "    height, width = edges.shape\n",
    "    mask = np.zeros_like(edges)\n",
    "    mask[int(height/2):, :] = 255\n",
    "    roi_edges = cv2.bitwise_and(edges, mask)\n",
    "\n",
    "    lines = cv2.HoughLinesP(roi_edges, 1, np.pi/180, threshold=50, minLineLength=10, maxLineGap=20)\n",
    "\n",
    "    # Fit lane lines\n",
    "    left_fit, right_fit = fit_lane_lines(lines, obs)\n",
    "\n",
    "    # Calculate steering from lane center\n",
    "    steering = calculate_steering_from_center(left_fit, right_fit, width, height)\n",
    "\n",
    "    # Action: steer, gas, brake\n",
    "    action = np.array([steering, 1.0, 0.0])\n",
    "    obs, reward, done, truncated, info = env.step(action)\n",
    "\n",
    "    # Visualization\n",
    "    line_img = obs.copy()\n",
    "    if lines is not None:\n",
    "        for line in lines:\n",
    "            x1, y1, x2, y2 = line[0]\n",
    "            cv2.line(line_img, (x1, y1), (x2, y2), (0, 255, 0), 2)\n",
    "\n",
    "    # Draw lane fits\n",
    "    y_vals = np.linspace(int(height/2), height - 1, 20, dtype=np.int32)\n",
    "    for fit, color in zip([left_fit, right_fit], [(255, 0, 0), (0, 0, 255)]):\n",
    "        if fit is not None:\n",
    "            for y in y_vals:\n",
    "                x = int(fit[0] * y + fit[1])\n",
    "                cv2.circle(line_img, (x, y), 3, color, -1)\n",
    "\n",
    "    cv2.imshow(\"Lane Following\", line_img)\n",
    "    if cv2.waitKey(1) & 0xFF == ord('q'):\n",
    "        break\n",
    "\n",
    "cv2.destroyAllWindows()\n"
   ]
  },
  {
   "cell_type": "code",
   "execution_count": 9,
   "id": "c7de56fb",
   "metadata": {},
   "outputs": [
    {
     "ename": "NameError",
     "evalue": "name 'calculate_steering_angle' is not defined",
     "output_type": "error",
     "traceback": [
      "\u001b[31m---------------------------------------------------------------------------\u001b[39m",
      "\u001b[31mNameError\u001b[39m                                 Traceback (most recent call last)",
      "\u001b[36mCell\u001b[39m\u001b[36m \u001b[39m\u001b[32mIn[9]\u001b[39m\u001b[32m, line 22\u001b[39m\n\u001b[32m     19\u001b[39m lines = cv2.HoughLinesP(roi_edges, \u001b[32m1\u001b[39m, np.pi/\u001b[32m180\u001b[39m, threshold=\u001b[32m50\u001b[39m, minLineLength=\u001b[32m10\u001b[39m, maxLineGap=\u001b[32m20\u001b[39m)\n\u001b[32m     21\u001b[39m \u001b[38;5;66;03m# Steering based on lines\u001b[39;00m\n\u001b[32m---> \u001b[39m\u001b[32m22\u001b[39m steering = \u001b[43mcalculate_steering_angle\u001b[49m(lines, width)\n\u001b[32m     23\u001b[39m action = np.array([steering, \u001b[32m1.0\u001b[39m, \u001b[32m0.0\u001b[39m])  \u001b[38;5;66;03m# steer, gas, brake\u001b[39;00m\n\u001b[32m     25\u001b[39m \u001b[38;5;66;03m# Take action\u001b[39;00m\n",
      "\u001b[31mNameError\u001b[39m: name 'calculate_steering_angle' is not defined"
     ]
    }
   ],
   "source": [
    "env = gym.make(\"CarRacing-v3\",max_episode_steps=1)  # 'rgb_array' for image-only\n",
    "obs = env.reset()[0]\n",
    "\n",
    "\n",
    "for _ in range(200):\n",
    "    # Convert to grayscale\n",
    "    img = cv2.cvtColor(obs, cv2.COLOR_RGB2GRAY)\n",
    "\n",
    "    # Edge detection\n",
    "    edges = cv2.Canny(img, 50, 150)\n",
    "\n",
    "    # Region of interest (lower half)\n",
    "    mask = np.zeros_like(edges)\n",
    "    height, width = edges.shape\n",
    "    mask[int(height/2):, :] = 255\n",
    "    roi_edges = cv2.bitwise_and(edges, mask)\n",
    "\n",
    "    # Hough line detection\n",
    "    lines = cv2.HoughLinesP(roi_edges, 1, np.pi/180, threshold=50, minLineLength=10, maxLineGap=20)\n",
    "\n",
    "    # Steering based on lines\n",
    "    steering = calculate_steering_angle(lines, width)\n",
    "    action = np.array([steering, 1.0, 0.0])  # steer, gas, brake\n",
    "\n",
    "    # Take action\n",
    "    obs, reward, done, truncated, info = env.step(action)\n",
    "\n",
    "    # Optionally show frame with lines\n",
    "    line_img = obs.copy()\n",
    "    if lines is not None:\n",
    "        for line in lines:\n",
    "            x1, y1, x2, y2 = line[0]\n",
    "            cv2.line(line_img, (x1, y1), (x2, y2), (0, 255, 0), 2)\n",
    "\n",
    "    cv2.imshow(\"Lane Detection\", line_img)\n",
    "    if cv2.waitKey(1) & 0xFF == ord('q'):\n",
    "        break\n",
    "\n",
    "cv2.destroyAllWindows()\n"
   ]
  },
  {
   "cell_type": "code",
   "execution_count": 10,
   "id": "c31a5dda",
   "metadata": {},
   "outputs": [
    {
     "name": "stdout",
     "output_type": "stream",
     "text": [
      "(96, 96)\n"
     ]
    },
    {
     "data": {
      "image/png": "[encoded data removed]",
      "text/plain": [
       "<Figure size 640x480 with 1 Axes>"
      ]
     },
     "metadata": {},
     "output_type": "display_data"
    }
   ],
   "source": [
    "env = gym.make(\"CarRacing-v3\",max_episode_steps=1)  # 'rgb_array' for image-only\n",
    "obs = env.reset()[0]\n",
    "\n",
    "for _ in range(70):\n",
    "    action = np.array([0.0, 1.0, 0.0])\n",
    "    obs, reward, done, truncated, info = env.step(action)\n",
    "\n",
    "# Converting to grayscale\n",
    "img = cv2.cvtColor(obs,cv2.COLOR_RGB2GRAY)\n",
    "# img_bgr = cv2.cvtColor(obs,cv2.COLOR_BGR2GRAY)\n",
    "\n",
    "# Applying Canny edge detection\n",
    "edges = cv2.Canny(img,threshold1=10,threshold2=100)\n",
    "\n",
    "# print(img.shape)\n",
    "\n",
    "print(edges.shape)\n",
    "\n",
    "height,width = edges.shape\n",
    "\n",
    "mask = np.zeros_like(edges)\n",
    "\n",
    "mask[int(height/2):,:] = 255\n",
    "\n",
    "# lower half\n",
    "roi_edges = cv2.bitwise_and(edges,mask)\n",
    "\n",
    "# find lines\n",
    "lines = cv2.HoughLinesP(roi_edges, 1, np.pi/180, threshold=50, minLineLength=10, maxLineGap=20)\n",
    "line_img = cv2.cvtColor(img, cv2.COLOR_GRAY2RGB)\n",
    "\n",
    "if lines is not None:\n",
    "    for line in lines:\n",
    "        x1, y1, x2, y2 = line[0]\n",
    "        cv2.line(line_img, (x1, y1), (x2, y2), (0, 255, 0), 2)\n",
    "\n",
    "plt.imshow(line_img)\n",
    "plt.show()\n",
    "\n",
    "\n",
    "# plt.figure(figsize=(10, 10)) \n",
    "\n",
    "# plt.subplot(1, 2, 1)\n",
    "# plt.title(\"Original\")\n",
    "# plt.imshow(obs)\n",
    "\n",
    "# plt.subplot(1, 2, 2)\n",
    "# plt.title(\"Modified\")\n",
    "# plt.imshow(roi_edges, cmap='gray')\n",
    "\n",
    "# plt.show()\n"
   ]
  },
  {
   "cell_type": "code",
   "execution_count": 11,
   "id": "82490060",
   "metadata": {},
   "outputs": [],
   "source": [
    "def calculate_steering_angle(lines, img_width):\n",
    "    if lines is None:\n",
    "        return 0.0  # go straight if no lines\n",
    "\n",
    "    angles = []\n",
    "    for line in lines:\n",
    "        x1, y1, x2, y2 = line[0]\n",
    "        dx = x2 - x1\n",
    "        dy = y2 - y1\n",
    "        if dx == 0:\n",
    "            continue  # skip vertical lines\n",
    "        angle = np.arctan2(dy, dx)\n",
    "        angles.append(angle)\n",
    "\n",
    "    if len(angles) == 0:\n",
    "        return 0.0\n",
    "\n",
    "    average_angle = np.mean(angles)\n",
    "\n",
    "    # Normalize steering angle (this part is heuristic!)\n",
    "    steering = np.clip(-average_angle / np.pi, -1.0, 1.0)\n",
    "    return steering\n"
   ]
  },
  {
   "cell_type": "code",
   "execution_count": null,
   "id": "1663a2df",
   "metadata": {},
   "outputs": [],
   "source": []
  },
  {
   "cell_type": "markdown",
   "id": "e43a9afd",
   "metadata": {},
   "source": [
    "### Let’s improve the lane detection by fitting curves (e.g., 2nd-degree polynomials) instead of just straight lines. This allows the car to handle curves on the track better."
   ]
  },
  {
   "cell_type": "markdown",
   "id": "9c3b667f",
   "metadata": {},
   "source": [
    "**Why Fit Curves?**\n",
    "\n",
    "- Straight lines (np.polyfit(..., deg=1)) work for straight roads.\n",
    "\n",
    "- Curved tracks need quadratic fits (deg=2) to model lane lines more accurately."
   ]
  },
  {
   "cell_type": "markdown",
   "id": "d548c50b",
   "metadata": {},
   "source": [
    "**We'll:**\n",
    "- Detect line segments from the Hough Transform.\n",
    "\n",
    "- Separate them into left/right based on slope and position.\n",
    "\n",
    "- Fit 2nd-degree polynomials (curves) to each side.\n",
    "\n",
    "- Estimate the lane center at the bottom of the image.\n",
    "\n",
    "- Steer toward the center using a proportional controller."
   ]
  },
  {
   "cell_type": "markdown",
   "id": "d934a1b8",
   "metadata": {},
   "source": [
    "1. Fit Left & Right Curves"
   ]
  },
  {
   "cell_type": "code",
   "execution_count": 12,
   "id": "ed454918",
   "metadata": {},
   "outputs": [],
   "source": [
    "def fit_lane_curves(lines, img):\n",
    "    left_x, left_y = [], []\n",
    "    right_x, right_y = [], []\n",
    "\n",
    "    height, width, _ = img.shape\n",
    "    center_x = width / 2\n",
    "\n",
    "    if lines is None:\n",
    "        return None, None\n",
    "\n",
    "    for line in lines:\n",
    "        x1, y1, x2, y2 = line[0]\n",
    "        dx = x2 - x1\n",
    "        dy = y2 - y1\n",
    "\n",
    "        if dx == 0 or abs(dy / dx) < 0.3:\n",
    "            continue  # skip vertical or nearly-horizontal lines\n",
    "\n",
    "        slope = dy / dx\n",
    "\n",
    "        if slope < 0 and x1 < center_x and x2 < center_x:\n",
    "            left_x += [x1, x2]\n",
    "            left_y += [y1, y2]\n",
    "        elif slope > 0 and x1 > center_x and x2 > center_x:\n",
    "            right_x += [x1, x2]\n",
    "            right_y += [y1, y2]\n",
    "\n",
    "    left_fit = np.polyfit(left_y, left_x, 2) if len(left_x) >= 6 else None\n",
    "    right_fit = np.polyfit(right_y, right_x, 2) if len(right_x) >= 6 else None\n",
    "\n",
    "    return left_fit, right_fit\n"
   ]
  },
  {
   "cell_type": "markdown",
   "id": "070433d9",
   "metadata": {},
   "source": [
    "2. Estimate Lane Center from Curve Fit"
   ]
  },
  {
   "cell_type": "code",
   "execution_count": 13,
   "id": "945fa2f3",
   "metadata": {},
   "outputs": [],
   "source": [
    "def get_lane_center_offset_from_curve(left_fit, right_fit, img_width, img_height):\n",
    "    y = img_height - 1  # bottom of image\n",
    "\n",
    "    if left_fit is None or right_fit is None:\n",
    "        return 0.0\n",
    "\n",
    "    left_x = left_fit[0] * y**2 + left_fit[1] * y + left_fit[2]\n",
    "    right_x = right_fit[0] * y**2 + right_fit[1] * y + right_fit[2]\n",
    "\n",
    "    lane_center = (left_x + right_x) / 2\n",
    "    car_center = img_width / 2\n",
    "    offset = lane_center - car_center\n",
    "\n",
    "    # Normalize offset for steering [-1, 1]\n",
    "    steering = np.clip(offset / (img_width / 2), -1.0, 1.0)\n",
    "    return steering\n"
   ]
  },
  {
   "cell_type": "markdown",
   "id": "7a66e555",
   "metadata": {},
   "source": [
    "3. Curve Fitting"
   ]
  },
  {
   "cell_type": "code",
   "execution_count": 14,
   "id": "bb31cc73",
   "metadata": {},
   "outputs": [],
   "source": [
    "for _ in range(300):\n",
    "    gray = cv2.cvtColor(obs, cv2.COLOR_RGB2GRAY)\n",
    "    edges = cv2.Canny(gray, 50, 150)\n",
    "\n",
    "    height, width = edges.shape\n",
    "    mask = np.zeros_like(edges)\n",
    "    mask[int(height / 2):, :] = 255\n",
    "    roi_edges = cv2.bitwise_and(edges, mask)\n",
    "\n",
    "    lines = cv2.HoughLinesP(roi_edges, 1, np.pi/180, threshold=50, minLineLength=10, maxLineGap=20)\n",
    "\n",
    "    # Fit curves\n",
    "    left_fit, right_fit = fit_lane_curves(lines, obs)\n",
    "\n",
    "    # Calculate steering\n",
    "    steering = get_lane_center_offset_from_curve(left_fit, right_fit, width, height)\n",
    "    action = np.array([steering, 1.0, 0.0])\n",
    "    obs, reward, done, truncated, info = env.step(action)\n",
    "\n",
    "    # Visualization\n",
    "    vis = obs.copy()\n",
    "    y_vals = np.linspace(int(height / 2), height - 1, 50, dtype=np.int32)\n",
    "    for fit, color in zip([left_fit, right_fit], [(255, 0, 0), (0, 255, 0)]):\n",
    "        if fit is not None:\n",
    "            for y in y_vals:\n",
    "                x = int(fit[0] * y**2 + fit[1] * y + fit[2])\n",
    "                cv2.circle(vis, (x, y), 2, color, -1)\n",
    "\n",
    "    cv2.imshow(\"Curve Fitted Lane Following\", vis)\n",
    "    if cv2.waitKey(1) & 0xFF == ord('q'):\n",
    "        break\n",
    "\n",
    "cv2.destroyAllWindows()\n"
   ]
  },
  {
   "cell_type": "code",
   "execution_count": null,
   "id": "09f5f747",
   "metadata": {},
   "outputs": [],
   "source": []
  }
 ],
 "metadata": {
  "kernelspec": {
   "display_name": ".venv",
   "language": "python",
   "name": "python3"
  },
  "language_info": {
   "codemirror_mode": {
    "name": "ipython",
    "version": 3
   },
   "file_extension": ".py",
   "mimetype": "text/x-python",
   "name": "python",
   "nbconvert_exporter": "python",
   "pygments_lexer": "ipython3",
   "version": "3.12.3"
  }
 },
 "nbformat": 4,
 "nbformat_minor": 5
}
