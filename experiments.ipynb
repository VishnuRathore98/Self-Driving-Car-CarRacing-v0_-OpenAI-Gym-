{
 "cells": [
  {
   "cell_type": "code",
   "execution_count": 2,
   "id": "619156bf",
   "metadata": {},
   "outputs": [],
   "source": [
    "import gymnasium as gym\n",
    "import numpy as np\n",
    "import cv2\n",
    "import matplotlib.pyplot as plt"
   ]
  },
  {
   "cell_type": "code",
   "execution_count": 6,
   "id": "c7de56fb",
   "metadata": {},
   "outputs": [],
   "source": [
    "env = gym.make(\"CarRacing-v3\",max_episode_steps=1)  # 'rgb_array' for image-only\n",
    "obs = env.reset()[0]\n",
    "\n",
    "\n",
    "for _ in range(200):\n",
    "    # Convert to grayscale\n",
    "    img = cv2.cvtColor(obs, cv2.COLOR_RGB2GRAY)\n",
    "\n",
    "    # Edge detection\n",
    "    edges = cv2.Canny(img, 50, 150)\n",
    "\n",
    "    # Region of interest (lower half)\n",
    "    mask = np.zeros_like(edges)\n",
    "    height, width = edges.shape\n",
    "    mask[int(height/2):, :] = 255\n",
    "    roi_edges = cv2.bitwise_and(edges, mask)\n",
    "\n",
    "    # Hough line detection\n",
    "    lines = cv2.HoughLinesP(roi_edges, 1, np.pi/180, threshold=50, minLineLength=10, maxLineGap=20)\n",
    "\n",
    "    # Steering based on lines\n",
    "    steering = calculate_steering_angle(lines, width)\n",
    "    action = np.array([steering, 1.0, 0.0])  # steer, gas, brake\n",
    "\n",
    "    # Take action\n",
    "    obs, reward, done, truncated, info = env.step(action)\n",
    "\n",
    "    # Optionally show frame with lines\n",
    "    line_img = obs.copy()\n",
    "    if lines is not None:\n",
    "        for line in lines:\n",
    "            x1, y1, x2, y2 = line[0]\n",
    "            cv2.line(line_img, (x1, y1), (x2, y2), (0, 255, 0), 2)\n",
    "\n",
    "    cv2.imshow(\"Lane Detection\", line_img)\n",
    "    if cv2.waitKey(1) & 0xFF == ord('q'):\n",
    "        break\n",
    "\n",
    "cv2.destroyAllWindows()\n"
   ]
  },
  {
   "cell_type": "code",
   "execution_count": null,
   "id": "c31a5dda",
   "metadata": {},
   "outputs": [
    {
     "name": "stdout",
     "output_type": "stream",
     "text": [
      "(96, 96)\n"
     ]
    },
    {
     "data": {
      "image/png": "[encoded data removed]",
      "text/plain": [
       "<Figure size 640x480 with 1 Axes>"
      ]
     },
     "metadata": {},
     "output_type": "display_data"
    }
   ],
   "source": [
    "env = gym.make(\"CarRacing-v3\",max_episode_steps=1)  # 'rgb_array' for image-only\n",
    "obs = env.reset()[0]\n",
    "\n",
    "for _ in range(70):\n",
    "    action = np.array([0.0, 1.0, 0.0])\n",
    "    obs, reward, done, truncated, info = env.step(action)\n",
    "\n",
    "# Converting to grayscale\n",
    "img = cv2.cvtColor(obs,cv2.COLOR_RGB2GRAY)\n",
    "# img_bgr = cv2.cvtColor(obs,cv2.COLOR_BGR2GRAY)\n",
    "\n",
    "# Applying Canny edge detection\n",
    "edges = cv2.Canny(img,threshold1=10,threshold2=100)\n",
    "\n",
    "# print(img.shape)\n",
    "\n",
    "print(edges.shape)\n",
    "\n",
    "height,width = edges.shape\n",
    "\n",
    "mask = np.zeros_like(edges)\n",
    "\n",
    "mask[int(height/2):,:] = 255\n",
    "\n",
    "# lower half\n",
    "roi_edges = cv2.bitwise_and(edges,mask)\n",
    "\n",
    "# find lines\n",
    "lines = cv2.HoughLinesP(roi_edges, 1, np.pi/180, threshold=50, minLineLength=10, maxLineGap=20)\n",
    "line_img = cv2.cvtColor(img, cv2.COLOR_GRAY2RGB)\n",
    "\n",
    "if lines is not None:\n",
    "    for line in lines:\n",
    "        x1, y1, x2, y2 = line[0]\n",
    "        cv2.line(line_img, (x1, y1), (x2, y2), (0, 255, 0), 2)\n",
    "\n",
    "plt.imshow(line_img)\n",
    "plt.show()\n",
    "\n",
    "\n",
    "# plt.figure(figsize=(10, 10)) \n",
    "\n",
    "# plt.subplot(1, 2, 1)\n",
    "# plt.title(\"Original\")\n",
    "# plt.imshow(obs)\n",
    "\n",
    "# plt.subplot(1, 2, 2)\n",
    "# plt.title(\"Modified\")\n",
    "# plt.imshow(roi_edges, cmap='gray')\n",
    "\n",
    "# plt.show()\n"
   ]
  },
  {
   "cell_type": "code",
   "execution_count": 5,
   "id": "82490060",
   "metadata": {},
   "outputs": [],
   "source": [
    "def calculate_steering_angle(lines, img_width):\n",
    "    if lines is None:\n",
    "        return 0.0  # go straight if no lines\n",
    "\n",
    "    angles = []\n",
    "    for line in lines:\n",
    "        x1, y1, x2, y2 = line[0]\n",
    "        dx = x2 - x1\n",
    "        dy = y2 - y1\n",
    "        if dx == 0:\n",
    "            continue  # skip vertical lines\n",
    "        angle = np.arctan2(dy, dx)\n",
    "        angles.append(angle)\n",
    "\n",
    "    if len(angles) == 0:\n",
    "        return 0.0\n",
    "\n",
    "    average_angle = np.mean(angles)\n",
    "\n",
    "    # Normalize steering angle (this part is heuristic!)\n",
    "    steering = np.clip(-average_angle / np.pi, -1.0, 1.0)\n",
    "    return steering\n"
   ]
  }
 ],
 "metadata": {
  "kernelspec": {
   "display_name": ".venv",
   "language": "python",
   "name": "python3"
  },
  "language_info": {
   "codemirror_mode": {
    "name": "ipython",
    "version": 3
   },
   "file_extension": ".py",
   "mimetype": "text/x-python",
   "name": "python",
   "nbconvert_exporter": "python",
   "pygments_lexer": "ipython3",
   "version": "3.12.3"
  }
 },
 "nbformat": 4,
 "nbformat_minor": 5
}
